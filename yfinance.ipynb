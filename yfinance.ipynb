{
 "cells": [
  {
   "cell_type": "code",
   "execution_count": 2,
   "metadata": {},
   "outputs": [],
   "source": [
    "import yfinance as yf\n"
   ]
  },
  {
   "cell_type": "code",
   "execution_count": 18,
   "metadata": {},
   "outputs": [],
   "source": [
    "petr = yf.Ticker(\"BTCI11.sa\")"
   ]
  },
  {
   "cell_type": "code",
   "execution_count": 19,
   "metadata": {},
   "outputs": [
    {
     "data": {
      "text/plain": [
       "{'country': 'Brazil',\n",
       " 'maxAge': 86400,\n",
       " 'priceHint': 2,\n",
       " 'previousClose': 10.08,\n",
       " 'regularMarketPreviousClose': 10.08,\n",
       " 'dividendRate': 1.21,\n",
       " 'dividendYield': 0.123,\n",
       " 'exDividendDate': 1696809600,\n",
       " 'trailingPE': 9.027027,\n",
       " 'averageVolume': 243605,\n",
       " 'averageVolume10days': 215577,\n",
       " 'averageDailyVolume10Day': 215577,\n",
       " 'bid': 10.01,\n",
       " 'ask': 10.02,\n",
       " 'marketCap': 1003172416,\n",
       " 'fiftyTwoWeekHigh': 10.4,\n",
       " 'fiftyDayAverage': 10.1594,\n",
       " 'twoHundredDayAverage': 9.9185,\n",
       " 'currency': 'BRL',\n",
       " 'sharesOutstanding': 99521200,\n",
       " 'heldPercentInstitutions': 0.02172,\n",
       " 'impliedSharesOutstanding': 100117000,\n",
       " 'bookValue': 10.402,\n",
       " 'priceToBook': 0.9632763,\n",
       " 'trailingEps': 1.11,\n",
       " 'lastSplitFactor': '9:1',\n",
       " 'lastSplitDate': 1674086400,\n",
       " '52WeekChange': 0.09565222,\n",
       " 'SandP52WeekChange': 0.29309833,\n",
       " 'lastDividendValue': 0.092,\n",
       " 'lastDividendDate': 1715212800,\n",
       " 'exchange': 'SAO',\n",
       " 'quoteType': 'EQUITY',\n",
       " 'symbol': 'BTCI11.SA',\n",
       " 'underlyingSymbol': 'BTCI11.SA',\n",
       " 'shortName': 'FII BTG CRI CI  ER',\n",
       " 'longName': 'Fundo Infestimento Imobiliario Btg Pactual Credito Imobiliario',\n",
       " 'firstTradeDateEpochUtc': 1546603200,\n",
       " 'timeZoneFullName': 'America/Sao_Paulo',\n",
       " 'timeZoneShortName': 'BRT',\n",
       " 'uuid': 'b76f1a47-a560-368a-abe1-f6707e94df72',\n",
       " 'messageBoardId': 'finmb_557652578',\n",
       " 'gmtOffSetMilliseconds': -10800000,\n",
       " 'currentPrice': 10.02,\n",
       " 'recommendationKey': 'none',\n",
       " 'financialCurrency': 'BRL',\n",
       " 'trailingPegRatio': None}"
      ]
     },
     "execution_count": 19,
     "metadata": {},
     "output_type": "execute_result"
    }
   ],
   "source": [
    "petr.get_info()"
   ]
  }
 ],
 "metadata": {
  "kernelspec": {
   "display_name": "abaco-GC46V_HI-py3.12",
   "language": "python",
   "name": "python3"
  },
  "language_info": {
   "codemirror_mode": {
    "name": "ipython",
    "version": 3
   },
   "file_extension": ".py",
   "mimetype": "text/x-python",
   "name": "python",
   "nbconvert_exporter": "python",
   "pygments_lexer": "ipython3",
   "version": "3.12.0"
  }
 },
 "nbformat": 4,
 "nbformat_minor": 2
}
