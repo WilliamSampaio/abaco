{
 "cells": [
  {
   "cell_type": "code",
   "execution_count": 2,
   "metadata": {},
   "outputs": [],
   "source": [
    "import yfinance as yf\n"
   ]
  },
  {
   "cell_type": "code",
   "execution_count": 18,
   "metadata": {},
   "outputs": [],
   "source": [
    "petr = yf.Ticker(\"BTCI11.sa\")"
   ]
  },
  {
   "cell_type": "code",
   "execution_count": 19,
   "metadata": {},
   "outputs": [
    {
     "data": {
      "text/plain": [
       "{'country': 'Brazil',\n",
       " 'maxAge': 86400,\n",
       " 'priceHint': 2,\n",
       " 'previousClose': 10.08,\n",
       " 'regularMarketPreviousClose': 10.08,\n",
       " 'dividendRate': 1.21,\n",
       " 'dividendYield': 0.123,\n",
       " 'exDividendDate': 1696809600,\n",
       " 'trailingPE': 9.027027,\n",
       " 'averageVolume': 243605,\n",
       " 'averageVolume10days': 215577,\n",
       " 'averageDailyVolume10Day': 215577,\n",
       " 'bid': 10.01,\n",
       " 'ask': 10.02,\n",
       " 'marketCap': 1003172416,\n",
       " 'fiftyTwoWeekHigh': 10.4,\n",
       " 'fiftyDayAverage': 10.1594,\n",
       " 'twoHundredDayAverage': 9.9185,\n",
       " 'currency': 'BRL',\n",
       " 'sharesOutstanding': 99521200,\n",
       " 'heldPercentInstitutions': 0.02172,\n",
       " 'impliedSharesOutstanding': 100117000,\n",
       " 'bookValue': 10.402,\n",
       " 'priceToBook': 0.9632763,\n",
       " 'trailingEps': 1.11,\n",
       " 'lastSplitFactor': '9:1',\n",
       " 'lastSplitDate': 1674086400,\n",
       " '52WeekChange': 0.09565222,\n",
       " 'SandP52WeekChange': 0.29309833,\n",
       " 'lastDividendValue': 0.092,\n",
       " 'lastDividendDate': 1715212800,\n",
       " 'exchange': 'SAO',\n",
       " 'quoteType': 'EQUITY',\n",
       " 'symbol': 'BTCI11.SA',\n",
       " 'underlyingSymbol': 'BTCI11.SA',\n",
       " 'shortName': 'FII BTG CRI CI  ER',\n",
       " 'longName': 'Fundo Infestimento Imobiliario Btg Pactual Credito Imobiliario',\n",
       " 'firstTradeDateEpochUtc': 1546603200,\n",
       " 'timeZoneFullName': 'America/Sao_Paulo',\n",
       " 'timeZoneShortName': 'BRT',\n",
       " 'uuid': 'b76f1a47-a560-368a-abe1-f6707e94df72',\n",
       " 'messageBoardId': 'finmb_557652578',\n",
       " 'gmtOffSetMilliseconds': -10800000,\n",
       " 'currentPrice': 10.02,\n",
       " 'recommendationKey': 'none',\n",
       " 'financialCurrency': 'BRL',\n",
       " 'trailingPegRatio': None}"
      ]
     },
     "execution_count": 19,
     "metadata": {},
     "output_type": "execute_result"
    }
   ],
   "source": [
    "petr.get_info()"
   ]
  },
  {
   "cell_type": "code",
   "execution_count": 3,
   "metadata": {},
   "outputs": [
    {
     "name": "stdout",
     "output_type": "stream",
     "text": [
      "    ticker movimentacao  quantidade  preco_unitario  valor_total        nota  \\\n",
      "0   CPTS11       Compra          12            8.53       102.36  83517579.0   \n",
      "1   MXRF11       Compra          10           10.34       103.40  83517579.0   \n",
      "2   VGHF11       Compra          10            9.34        93.40  83517579.0   \n",
      "3    ITSA4       Compra           1           10.36        10.36  83687318.0   \n",
      "4    ITSA3       Compra          10           10.28       102.80  85305023.0   \n",
      "5    KLBN3       Compra           1            5.03         5.03  85305023.0   \n",
      "6    KLBN3       Compra          14            5.04        70.56  85305023.0   \n",
      "7    ITSA4        Venda           1           10.17        10.17  85390196.0   \n",
      "8    AURE3       Compra           5           12.11        60.55  85631946.0   \n",
      "9    KLBN3       Compra           1            4.99         4.99  85631946.0   \n",
      "10  BCFF11       Compra           1            9.09         9.09  86040880.0   \n",
      "11   BEES3       Compra          10            9.20        92.00  87395693.0   \n",
      "12   KLBN3       Compra           4            4.63        18.52  87395693.0   \n",
      "13   SAPR3       Compra          10            5.15        51.50  87395693.0   \n",
      "14   TAEE3       Compra           6           11.69        70.14  87395693.0   \n",
      "15  BCFF11       Compra           9            8.94        80.46  87395693.0   \n",
      "16   KLBN3          NaN           2            0.00         0.00         NaN   \n",
      "\n",
      "   data_pregao   observacao  \n",
      "0   2024-03-04          NaN  \n",
      "1   2024-03-04          NaN  \n",
      "2   2024-03-04          NaN  \n",
      "3   2024-03-06          NaN  \n",
      "4   2024-04-01          NaN  \n",
      "5   2024-04-01          NaN  \n",
      "6   2024-04-01          NaN  \n",
      "7   2024-04-02          NaN  \n",
      "8   2024-04-05          NaN  \n",
      "9   2024-04-05          NaN  \n",
      "10  2024-04-12          NaN  \n",
      "11  2024-05-06          NaN  \n",
      "12  2024-05-06          NaN  \n",
      "13  2024-05-06          NaN  \n",
      "14  2024-05-06          NaN  \n",
      "15  2024-05-06          NaN  \n",
      "16  2024-05-09  Bonificação  \n"
     ]
    }
   ],
   "source": [
    "import os\n",
    "import pandas as pd\n",
    "\n",
    "\n",
    "data = pd.read_excel(os.path.join(os.getcwd(), 'data', 'wallet.ods'), engine=\"odf\")\n",
    "\n",
    "print(data)\n"
   ]
  }
 ],
 "metadata": {
  "kernelspec": {
   "display_name": "abaco-GC46V_HI-py3.12",
   "language": "python",
   "name": "python3"
  },
  "language_info": {
   "codemirror_mode": {
    "name": "ipython",
    "version": 3
   },
   "file_extension": ".py",
   "mimetype": "text/x-python",
   "name": "python",
   "nbconvert_exporter": "python",
   "pygments_lexer": "ipython3",
   "version": "3.12.0"
  }
 },
 "nbformat": 4,
 "nbformat_minor": 2
}
