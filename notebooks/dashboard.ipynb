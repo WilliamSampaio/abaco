{
 "cells": [
  {
   "cell_type": "markdown",
   "id": "eda21b43-be43-47cc-9b2f-d14c14ca591a",
   "metadata": {},
   "source": [
    "# Dashboard Notebook\n",
    "\n",
    "Contem o código para gerar os gráficos da carteira."
   ]
  },
  {
   "cell_type": "markdown",
   "id": "bc1b5511-a8e4-4f77-99dc-90faeebd84d7",
   "metadata": {},
   "source": [
    "## Importando as libs"
   ]
  },
  {
   "cell_type": "code",
   "execution_count": 70,
   "id": "7512dcc9-d4f9-4760-9c2e-a4e042254692",
   "metadata": {},
   "outputs": [],
   "source": [
    "import pandas as pd\n",
    "import os"
   ]
  },
  {
   "cell_type": "markdown",
   "id": "ec3cf690-4b48-44ed-bcdb-207059bee58e",
   "metadata": {},
   "source": [
    "## Criando o DataFrame"
   ]
  },
  {
   "cell_type": "code",
   "execution_count": 71,
   "id": "6b468350-688b-4a4c-bd6b-597b4fa797d7",
   "metadata": {},
   "outputs": [
    {
     "data": {
      "text/plain": [
       "'/home/william/Documentos/dev/abaco/data/wallet.ods'"
      ]
     },
     "metadata": {},
     "output_type": "display_data"
    }
   ],
   "source": [
    "dataset_path = os.path.join(os.path.dirname(os.getcwd()),'data','wallet.ods')\n",
    "display(dataset_path)"
   ]
  },
  {
   "cell_type": "code",
   "execution_count": 72,
   "id": "d4490917-b9d1-4adb-b704-f7d9596191e2",
   "metadata": {},
   "outputs": [
    {
     "name": "stdout",
     "output_type": "stream",
     "text": [
      "    ticker movimentacao  quantidade  preco_unitario  valor_total        nota  \\\n",
      "0   CPTS11       Compra          12            8.53       102.36  83517579.0   \n",
      "1   MXRF11       Compra          10           10.34       103.40  83517579.0   \n",
      "2   VGHF11       Compra          10            9.34        93.40  83517579.0   \n",
      "3    ITSA4       Compra           1           10.36        10.36  83687318.0   \n",
      "4    ITSA3       Compra          10           10.28       102.80  85305023.0   \n",
      "5    KLBN3       Compra           1            5.03         5.03  85305023.0   \n",
      "6    KLBN3       Compra          14            5.04        70.56  85305023.0   \n",
      "7    ITSA4        Venda           1           10.17        10.17  85390196.0   \n",
      "8    AURE3       Compra           5           12.11        60.55  85631946.0   \n",
      "9    KLBN3       Compra           1            4.99         4.99  85631946.0   \n",
      "10  BCFF11       Compra           1            9.09         9.09  86040880.0   \n",
      "11   BEES3       Compra          10            9.20        92.00  87395693.0   \n",
      "12   KLBN3       Compra           4            4.63        18.52  87395693.0   \n",
      "13   SAPR3       Compra          10            5.15        51.50  87395693.0   \n",
      "14   TAEE3       Compra           6           11.69        70.14  87395693.0   \n",
      "15  BCFF11       Compra           9            8.94        80.46  87395693.0   \n",
      "16   KLBN3  Bonificacao           2            2.85         5.70         NaN   \n",
      "\n",
      "   data_pregao   observacao  \n",
      "0   2024-03-04          NaN  \n",
      "1   2024-03-04          NaN  \n",
      "2   2024-03-04          NaN  \n",
      "3   2024-03-06          NaN  \n",
      "4   2024-04-01          NaN  \n",
      "5   2024-04-01          NaN  \n",
      "6   2024-04-01          NaN  \n",
      "7   2024-04-02          NaN  \n",
      "8   2024-04-05          NaN  \n",
      "9   2024-04-05          NaN  \n",
      "10  2024-04-12          NaN  \n",
      "11  2024-05-06          NaN  \n",
      "12  2024-05-06          NaN  \n",
      "13  2024-05-06          NaN  \n",
      "14  2024-05-06          NaN  \n",
      "15  2024-05-06          NaN  \n",
      "16  2024-05-09  Bonificação  \n"
     ]
    }
   ],
   "source": [
    "df = pd.read_excel(dataset_path,engine='odf')\n",
    "print(df)"
   ]
  },
  {
   "cell_type": "markdown",
   "id": "ce716aca-e66d-4ec5-83fe-fe69f003947c",
   "metadata": {},
   "source": [
    "## PATRIMÔNIO"
   ]
  },
  {
   "cell_type": "code",
   "execution_count": 76,
   "id": "aae6f1a1",
   "metadata": {},
   "outputs": [
    {
     "ename": "ValueError",
     "evalue": "cannot insert t_venda, already exists",
     "output_type": "error",
     "traceback": [
      "\u001b[0;31m---------------------------------------------------------------------------\u001b[0m",
      "\u001b[0;31mValueError\u001b[0m                                Traceback (most recent call last)",
      "\u001b[0;32m/tmp/ipykernel_44009/2355147905.py\u001b[0m in \u001b[0;36m?\u001b[0;34m()\u001b[0m\n\u001b[0;32m----> 1\u001b[0;31m \u001b[0mdf1\u001b[0m \u001b[0;34m=\u001b[0m \u001b[0mdf\u001b[0m\u001b[0;34m.\u001b[0m\u001b[0minsert\u001b[0m\u001b[0;34m(\u001b[0m\u001b[0;36m4\u001b[0m\u001b[0;34m,\u001b[0m \u001b[0;34m't_venda'\u001b[0m\u001b[0;34m,\u001b[0m \u001b[0;36m0.0\u001b[0m\u001b[0;34m)\u001b[0m\u001b[0;34m\u001b[0m\u001b[0;34m\u001b[0m\u001b[0m\n\u001b[0m\u001b[1;32m      2\u001b[0m \u001b[0mprint\u001b[0m\u001b[0;34m(\u001b[0m\u001b[0mdf1\u001b[0m\u001b[0;34m)\u001b[0m\u001b[0;34m\u001b[0m\u001b[0;34m\u001b[0m\u001b[0m\n",
      "\u001b[0;32m~/.cache/pypoetry/virtualenvs/abaco-GC46V_HI-py3.12/lib/python3.12/site-packages/pandas/core/frame.py\u001b[0m in \u001b[0;36m?\u001b[0;34m(self, loc, column, value, allow_duplicates)\u001b[0m\n\u001b[1;32m   5154\u001b[0m                 \u001b[0;34m\"'self.flags.allows_duplicate_labels' is False.\"\u001b[0m\u001b[0;34m\u001b[0m\u001b[0;34m\u001b[0m\u001b[0m\n\u001b[1;32m   5155\u001b[0m             \u001b[0;34m)\u001b[0m\u001b[0;34m\u001b[0m\u001b[0;34m\u001b[0m\u001b[0m\n\u001b[1;32m   5156\u001b[0m         \u001b[0;32mif\u001b[0m \u001b[0;32mnot\u001b[0m \u001b[0mallow_duplicates\u001b[0m \u001b[0;32mand\u001b[0m \u001b[0mcolumn\u001b[0m \u001b[0;32min\u001b[0m \u001b[0mself\u001b[0m\u001b[0;34m.\u001b[0m\u001b[0mcolumns\u001b[0m\u001b[0;34m:\u001b[0m\u001b[0;34m\u001b[0m\u001b[0;34m\u001b[0m\u001b[0m\n\u001b[1;32m   5157\u001b[0m             \u001b[0;31m# Should this be a different kind of error??\u001b[0m\u001b[0;34m\u001b[0m\u001b[0;34m\u001b[0m\u001b[0m\n\u001b[0;32m-> 5158\u001b[0;31m             \u001b[0;32mraise\u001b[0m \u001b[0mValueError\u001b[0m\u001b[0;34m(\u001b[0m\u001b[0;34mf\"\u001b[0m\u001b[0;34mcannot insert \u001b[0m\u001b[0;34m{\u001b[0m\u001b[0mcolumn\u001b[0m\u001b[0;34m}\u001b[0m\u001b[0;34m, already exists\u001b[0m\u001b[0;34m\"\u001b[0m\u001b[0;34m)\u001b[0m\u001b[0;34m\u001b[0m\u001b[0;34m\u001b[0m\u001b[0m\n\u001b[0m\u001b[1;32m   5159\u001b[0m         \u001b[0;32mif\u001b[0m \u001b[0;32mnot\u001b[0m \u001b[0mis_integer\u001b[0m\u001b[0;34m(\u001b[0m\u001b[0mloc\u001b[0m\u001b[0;34m)\u001b[0m\u001b[0;34m:\u001b[0m\u001b[0;34m\u001b[0m\u001b[0;34m\u001b[0m\u001b[0m\n\u001b[1;32m   5160\u001b[0m             \u001b[0;32mraise\u001b[0m \u001b[0mTypeError\u001b[0m\u001b[0;34m(\u001b[0m\u001b[0;34m\"loc must be int\"\u001b[0m\u001b[0;34m)\u001b[0m\u001b[0;34m\u001b[0m\u001b[0;34m\u001b[0m\u001b[0m\n\u001b[1;32m   5161\u001b[0m         \u001b[0;31m# convert non stdlib ints to satisfy typing checks\u001b[0m\u001b[0;34m\u001b[0m\u001b[0;34m\u001b[0m\u001b[0m\n",
      "\u001b[0;31mValueError\u001b[0m: cannot insert t_venda, already exists"
     ]
    }
   ],
   "source": [
    "df1 = df.insert(4, 't_venda', 0.0)\n",
    "print(df1)"
   ]
  },
  {
   "cell_type": "code",
   "execution_count": 77,
   "id": "a3f72999",
   "metadata": {},
   "outputs": [
    {
     "ename": "AttributeError",
     "evalue": "'NoneType' object has no attribute 'insert'",
     "output_type": "error",
     "traceback": [
      "\u001b[0;31m---------------------------------------------------------------------------\u001b[0m",
      "\u001b[0;31mAttributeError\u001b[0m                            Traceback (most recent call last)",
      "Cell \u001b[0;32mIn[77], line 1\u001b[0m\n\u001b[0;32m----> 1\u001b[0m df1 \u001b[38;5;241m=\u001b[39m \u001b[43mdf1\u001b[49m\u001b[38;5;241;43m.\u001b[39;49m\u001b[43minsert\u001b[49m(\u001b[38;5;241m4\u001b[39m, \u001b[38;5;124m'\u001b[39m\u001b[38;5;124mt_venda\u001b[39m\u001b[38;5;124m'\u001b[39m, \u001b[38;5;241m0.0\u001b[39m)\n\u001b[1;32m      2\u001b[0m \u001b[38;5;28mprint\u001b[39m(df1)\n",
      "\u001b[0;31mAttributeError\u001b[0m: 'NoneType' object has no attribute 'insert'"
     ]
    }
   ],
   "source": [
    "df1 = df1.insert(4, 't_venda', 0.0)\n",
    "print(df1)"
   ]
  },
  {
   "cell_type": "code",
   "execution_count": 80,
   "id": "f0e9b070-f795-47bb-8597-3c19e5289af3",
   "metadata": {},
   "outputs": [
    {
     "data": {
      "text/plain": [
       "<pandas.core.groupby.generic.DataFrameGroupBy object at 0x78d1c1af61e0>"
      ]
     },
     "execution_count": 80,
     "metadata": {},
     "output_type": "execute_result"
    }
   ],
   "source": [
    "df.groupby([pd.Grouper(key='data_pregao',freq='ME'),'movimentacao'])"
   ]
  },
  {
   "cell_type": "code",
   "execution_count": null,
   "id": "8bb84c39",
   "metadata": {},
   "outputs": [],
   "source": []
  }
 ],
 "metadata": {
  "kernelspec": {
   "display_name": "Python 3 (ipykernel)",
   "language": "python",
   "name": "python3"
  },
  "language_info": {
   "codemirror_mode": {
    "name": "ipython",
    "version": 3
   },
   "file_extension": ".py",
   "mimetype": "text/x-python",
   "name": "python",
   "nbconvert_exporter": "python",
   "pygments_lexer": "ipython3",
   "version": "3.12.0"
  }
 },
 "nbformat": 4,
 "nbformat_minor": 5
}
